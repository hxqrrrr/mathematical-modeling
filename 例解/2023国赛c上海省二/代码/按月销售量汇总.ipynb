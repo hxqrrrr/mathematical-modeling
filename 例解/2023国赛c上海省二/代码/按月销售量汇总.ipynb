{
 "cells": [
  {
   "cell_type": "code",
   "execution_count": 3,
   "metadata": {},
   "outputs": [],
   "source": [
    "import pandas as pd\n",
    "import os\n",
    "from openpyxl import load_workbook\n",
    "df = pd.read_excel('附件2.xlsx')\n",
    "df['销售日期'] = pd.to_datetime(df['销售日期'])\n",
    "df['年'] = df['销售日期'].dt.year\n",
    "df['月'] = df['销售日期'].dt.month\n",
    "df_grouped = df.groupby(['单品编码', '年', '月'])['销量(千克)'].sum().reset_index()\n",
    "df_grouped = df_grouped.sort_values(['年', '月'])\n",
    "df_grouped = df_grouped.pivot_table(index='单品编码', columns=['年', '月'], values='销量(千克)', fill_value=0)\n",
    "df_grouped.columns = [f'{year}-{month}' for year, month in df_grouped.columns]\n",
    "df_grouped = df_grouped.loc[:, '2020-7':'2023-6']\n",
    "with pd.ExcelWriter('按月汇总.xlsx') as writer:\n",
    "    df_grouped.to_excel(writer, startrow=1)\n",
    "\n"
   ]
  }
 ],
 "metadata": {
  "kernelspec": {
   "display_name": "pytorch",
   "language": "python",
   "name": "python3"
  },
  "language_info": {
   "codemirror_mode": {
    "name": "ipython",
    "version": 3
   },
   "file_extension": ".py",
   "mimetype": "text/x-python",
   "name": "python",
   "nbconvert_exporter": "python",
   "pygments_lexer": "ipython3",
   "version": "3.7.13"
  },
  "orig_nbformat": 4
 },
 "nbformat": 4,
 "nbformat_minor": 2
}
