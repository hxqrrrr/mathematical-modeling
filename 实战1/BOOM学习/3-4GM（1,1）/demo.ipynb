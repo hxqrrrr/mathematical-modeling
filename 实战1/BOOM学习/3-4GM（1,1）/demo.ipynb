{
 "cells": [
  {
   "cell_type": "code",
   "id": "initial_id",
   "metadata": {
    "collapsed": true,
    "ExecuteTime": {
     "end_time": "2024-07-21T02:53:21.322430Z",
     "start_time": "2024-07-21T02:53:21.301731Z"
    }
   },
   "source": [
    "import numpy as np\n",
    "\n",
    "def GM11(x0):\n",
    "    \"\"\"\n",
    "    GM(1,1) 灰色预测模型\n",
    "    :param x0: 原始数据序列\n",
    "    :return: 预测值，a和b参数\n",
    "    \"\"\"\n",
    "    x1 = x0.cumsum()  # 累加生成序列\n",
    "    n = len(x0)\n",
    "    B = np.zeros((n-1, 2))\n",
    "    Y = x0[1:].reshape((n-1, 1))\n",
    "    for i in range(n-1):\n",
    "        B[i][0] = -0.5 * (x1[i] + x1[i+1])\n",
    "        B[i][1] = 1.0\n",
    "    BT = B.T\n",
    "    a_b = np.linalg.inv(BT @ B) @ BT @ Y\n",
    "    a, b = a_b[0][0], a_b[1][0]\n",
    "    \n",
    "    def f(k):\n",
    "        return (x0[0] - b / a) * np.exp(-a * k) + b / a\n",
    "    \n",
    "    x_hat = np.array([f(i) for i in range(n)])\n",
    "    return x_hat, a, b\n",
    "\n",
    "# 输入数据\n",
    "data = np.array([71.1, 72.4, 72.4, 72.1, 71.4, 72.0, 71.6])\n",
    "\n",
    "# 模型预测\n",
    "x_hat, a, b = GM11(data)\n",
    "\n",
    "# 打印结果\n",
    "print(\"原始数据:\", data)\n",
    "print(\"预测数据:\", x_hat)\n",
    "print(\"a参数:\", a)\n",
    "print(\"b参数:\", b)\n",
    "\n",
    "# 可行性检验\n",
    "residuals = data - x_hat  # 残差\n",
    "relative_errors = residuals / data  # 相对误差\n",
    "\n",
    "print(\"残差:\", residuals)\n",
    "print(\"相对误差:\", relative_errors)\n",
    "\n",
    "# 计算残差和相对误差的均值和标准差\n",
    "residuals_mean = np.mean(residuals)\n",
    "residuals_std = np.std(residuals)\n",
    "relative_errors_mean = np.mean(relative_errors)\n",
    "relative_errors_std = np.std(relative_errors)\n",
    "\n",
    "print(\"残差均值:\", residuals_mean)\n",
    "print(\"残差标准差:\", residuals_std)\n",
    "print(\"相对误差均值:\", relative_errors_mean)\n",
    "print(\"相对误差标准差:\", relative_errors_std)\n",
    "\n",
    "# 级比检验\n",
    "lambda_k = data[1:] / data[:-1]\n",
    "lambda_lower = np.exp(-2 / (len(data) + 1))\n",
    "lambda_upper = np.exp(2 / (len(data) + 1))\n",
    "\n",
    "print(\"级比:\", lambda_k)\n",
    "print(\"理论级比区间: [{:.4f}, {:.4f}]\".format(lambda_lower, lambda_upper))\n",
    "\n",
    "# 判断级比是否在理论区间内\n",
    "is_within_range = np.all((lambda_k >= lambda_lower) & (lambda_k <= lambda_upper))\n",
    "print(\"级比是否在理论区间内:\", is_within_range)\n",
    "\n",
    "# 未来预测\n",
    "future_point = len(data)  # 预测下一年的数据\n",
    "future_x = (data[0] - b / a) * np.exp(-a * future_point) + b / a\n",
    "print(\"1993年预测数据:\", future_x)\n"
   ],
   "outputs": [
    {
     "name": "stdout",
     "output_type": "stream",
     "text": [
      "原始数据: [71.1 72.4 72.4 72.1 71.4 72.  71.6]\n",
      "预测数据: [ 71.1        143.50574144 215.741978   287.8091065  359.70752283\n",
      " 431.43762195 502.9997979 ]\n",
      "a参数: 0.0023437864785236795\n",
      "b参数: 72.65726960367881\n",
      "残差: [ 1.44950718e-12 -7.11057414e+01 -1.43341978e+02 -2.15709107e+02\n",
      " -2.88307523e+02 -3.59437622e+02 -4.31399798e+02]\n",
      "相对误差: [ 2.03868802e-14 -9.82123501e-01 -1.97986157e+00 -2.99180453e+00\n",
      " -4.03792049e+00 -4.99218919e+00 -6.02513684e+00]\n",
      "残差均值: -215.61453837688896\n",
      "残差标准差: 143.9882837821762\n",
      "相对误差均值: -3.001290875366896\n",
      "相对误差标准差: 2.0110449704593587\n",
      "级比: [1.01828411 1.         0.99585635 0.99029126 1.00840336 0.99444444]\n",
      "理论级比区间: [0.7788, 1.2840]\n",
      "级比是否在理论区间内: True\n",
      "1993年预测数据: 574.3944437965984\n"
     ]
    }
   ],
   "execution_count": 3
  }
 ],
 "metadata": {
  "kernelspec": {
   "display_name": "Python 3",
   "language": "python",
   "name": "python3"
  },
  "language_info": {
   "codemirror_mode": {
    "name": "ipython",
    "version": 2
   },
   "file_extension": ".py",
   "mimetype": "text/x-python",
   "name": "python",
   "nbconvert_exporter": "python",
   "pygments_lexer": "ipython2",
   "version": "2.7.6"
  }
 },
 "nbformat": 4,
 "nbformat_minor": 5
}
