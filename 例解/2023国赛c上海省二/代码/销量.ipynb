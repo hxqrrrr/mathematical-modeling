{
 "cells": [
  {
   "cell_type": "code",
   "execution_count": 1,
   "metadata": {},
   "outputs": [
    {
     "name": "stdout",
     "output_type": "stream",
     "text": [
      "             销售日期        扫码销售时间             单品编码  销量(千克)  销售单价(元/千克) 销售类型  \\\n",
      "0      2020-07-01  09:15:07.924  102900005117056   0.396         7.6   销售   \n",
      "1      2020-07-01  09:17:27.295  102900005115960   0.849         3.2   销售   \n",
      "2      2020-07-01  09:17:33.905  102900005117056   0.409         7.6   销售   \n",
      "3      2020-07-01  09:19:45.450  102900005115823   0.421        10.0   销售   \n",
      "4      2020-07-01  09:20:23.686  102900005115908   0.539         8.0   销售   \n",
      "...           ...           ...              ...     ...         ...  ...   \n",
      "878498 2023-06-30  21:35:13.264  102900005115250   0.284        24.0   销售   \n",
      "878499 2023-06-30  21:35:14.358  102900011022764   0.669        12.0   销售   \n",
      "878500 2023-06-30  21:35:20.264  102900005115250   0.125        24.0   销售   \n",
      "878501 2023-06-30  21:35:21.509  102900011016701   0.252         5.2   销售   \n",
      "878502 2023-06-30  21:40:48.248  102900011022764   0.803        12.0   销售   \n",
      "\n",
      "       是否打折销售  \n",
      "0           否  \n",
      "1           否  \n",
      "2           否  \n",
      "3           否  \n",
      "4           否  \n",
      "...       ...  \n",
      "878498      否  \n",
      "878499      否  \n",
      "878500      否  \n",
      "878501      否  \n",
      "878502      否  \n",
      "\n",
      "[878503 rows x 7 columns]\n"
     ]
    }
   ],
   "source": [
    "import pandas as pd\n",
    "\n",
    "data = pd.read_excel('附件2.xlsx')\n",
    "print(data)\n"
   ]
  },
  {
   "cell_type": "code",
   "execution_count": 4,
   "metadata": {},
   "outputs": [
    {
     "name": "stdout",
     "output_type": "stream",
     "text": [
      "                            销量(千克)  销售单价(元/千克)      销售额\n",
      "单品编码            销售日期                                   \n",
      "102900005115168 2020-10-30   6.427        85.0  32.1350\n",
      "                2020-10-31   7.251        80.0  36.2550\n",
      "                2020-11-01  13.126       128.8  60.3796\n",
      "                2020-12-04   5.972        51.0  17.9160\n",
      "                2021-03-03  11.568       130.0  57.8400\n",
      "...                            ...         ...      ...\n",
      "106973990980123 2022-07-23   2.000         4.0   4.0000\n",
      "                2022-07-25   7.000        17.5  17.5000\n",
      "                2022-07-26   7.000        12.5  12.5000\n",
      "                2022-07-28  10.000        21.0  21.0000\n",
      "                2022-07-29   2.000         5.0   5.0000\n",
      "\n",
      "[46599 rows x 3 columns]\n"
     ]
    }
   ],
   "source": [
    "import pandas as pd\n",
    "data = pd.read_excel('附件2.xlsx')\n",
    "# Calculate sales amount for each record\n",
    "data['销售额'] = data['销量(千克)'] * data['销售单价(元/千克)']\n",
    "# Group data by product code and sales date\n",
    "grouped_data = data.groupby(['单品编码', '销售日期']).sum()\n",
    "print(grouped_data)"
   ]
  },
  {
   "cell_type": "code",
   "execution_count": 6,
   "metadata": {},
   "outputs": [
    {
     "name": "stdout",
     "output_type": "stream",
     "text": [
      "                            销量(千克)      销售额\n",
      "单品编码            销售日期                       \n",
      "102900005115168 2020-10-30   6.427  32.1350\n",
      "                2020-10-31   7.251  36.2550\n",
      "                2020-11-01  13.126  60.3796\n",
      "                2020-12-04   5.972  17.9160\n",
      "                2021-03-03  11.568  57.8400\n",
      "...                            ...      ...\n",
      "106973990980123 2022-07-23   2.000   4.0000\n",
      "                2022-07-25   7.000  17.5000\n",
      "                2022-07-26   7.000  12.5000\n",
      "                2022-07-28  10.000  21.0000\n",
      "                2022-07-29   2.000   5.0000\n",
      "\n",
      "[46599 rows x 2 columns]\n"
     ]
    }
   ],
   "source": [
    "grouped_data.drop('销售单价(元/千克)', axis=1, inplace=True)\n",
    "print(grouped_data)"
   ]
  },
  {
   "cell_type": "code",
   "execution_count": 7,
   "metadata": {},
   "outputs": [],
   "source": [
    "# Save the daily sales amount for each product to a new Excel file\n",
    "grouped_data.to_excel('单品销售额（按天数计）.xlsx')\n"
   ]
  }
 ],
 "metadata": {
  "kernelspec": {
   "display_name": "pytorch",
   "language": "python",
   "name": "python3"
  },
  "language_info": {
   "codemirror_mode": {
    "name": "ipython",
    "version": 3
   },
   "file_extension": ".py",
   "mimetype": "text/x-python",
   "name": "python",
   "nbconvert_exporter": "python",
   "pygments_lexer": "ipython3",
   "version": "3.7.13"
  },
  "orig_nbformat": 4
 },
 "nbformat": 4,
 "nbformat_minor": 2
}
