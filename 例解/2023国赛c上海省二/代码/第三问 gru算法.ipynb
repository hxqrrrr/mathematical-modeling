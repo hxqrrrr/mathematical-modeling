{
 "cells": [
  {
   "cell_type": "code",
   "execution_count": 18,
   "metadata": {},
   "outputs": [],
   "source": [
    "inputname='成本'  #可填销量/成本 表示预测7月1日的哪个值"
   ]
  },
  {
   "cell_type": "code",
   "execution_count": 19,
   "metadata": {},
   "outputs": [
    {
     "name": "stderr",
     "output_type": "stream",
     "text": [
      "d:\\anaconda\\envs\\pytorch\\lib\\importlib\\_bootstrap.py:219: RuntimeWarning: numpy.ndarray size changed, may indicate binary incompatibility. Expected 80 from C header, got 88 from PyObject\n",
      "  return f(*args, **kwds)\n"
     ]
    },
    {
     "name": "stdout",
     "output_type": "stream",
     "text": [
      "WARNING:tensorflow:5 out of the last 5 calls to <function Model.make_predict_function.<locals>.predict_function at 0x000002BCBA8069D8> triggered tf.function retracing. Tracing is expensive and the excessive number of tracings could be due to (1) creating @tf.function repeatedly in a loop, (2) passing tensors with different shapes, (3) passing Python objects instead of tensors. For (1), please define your @tf.function outside of the loop. For (2), @tf.function has reduce_retracing=True option that can avoid unnecessary retracing. For (3), please refer to https://www.tensorflow.org/guide/function#controlling_retracing and https://www.tensorflow.org/api_docs/python/tf/function for  more details.\n",
      "WARNING:tensorflow:6 out of the last 6 calls to <function Model.make_predict_function.<locals>.predict_function at 0x000002BCBA4FAE58> triggered tf.function retracing. Tracing is expensive and the excessive number of tracings could be due to (1) creating @tf.function repeatedly in a loop, (2) passing tensors with different shapes, (3) passing Python objects instead of tensors. For (1), please define your @tf.function outside of the loop. For (2), @tf.function has reduce_retracing=True option that can avoid unnecessary retracing. For (3), please refer to https://www.tensorflow.org/guide/function#controlling_retracing and https://www.tensorflow.org/api_docs/python/tf/function for  more details.\n"
     ]
    }
   ],
   "source": [
    "import pandas as pd\n",
    "from keras.models import Sequential\n",
    "from keras.layers import GRU, Dense\n",
    "from sklearn.preprocessing import MinMaxScaler\n",
    "import numpy as np\n",
    "\n",
    "# 加载数据\n",
    "df = pd.read_excel('第三问预测销量和成本_三月.xlsx',sheet_name=inputname)\n",
    "\n",
    "# 移除第一列\n",
    "df = df.iloc[:, 1:]\n",
    "\n",
    "# 初始化预测结果\n",
    "predictions = []\n",
    "\n",
    "# 对每一列进行预测\n",
    "for i in range(df.shape[1]):\n",
    "    # 获取列数据\n",
    "    data = df.iloc[:, i].values\n",
    "    # 删除data中的0值   ！！！如果是预测销量，我们组认为不需要去零处理，而成本需要去0处理\n",
    "    data = data[data != 0]    \n",
    "    # 数据归一化\n",
    "    scaler = MinMaxScaler(feature_range=(0, 1))\n",
    "    data = scaler.fit_transform(data.reshape(-1, 1))\n",
    "\n",
    "    # 创建数据集\n",
    "    X, y = [], []\n",
    "    for i in range(len(data)-1):\n",
    "        X.append(data[i])\n",
    "        y.append(data[i+1])\n",
    "    X, y = np.array(X), np.array(y)\n",
    "\n",
    "    # 重塑输入为 [samples, timesteps, features]\n",
    "    X = X.reshape((X.shape[0], 1, X.shape[1]))\n",
    "\n",
    "    # 定义GRU模型\n",
    "    model = Sequential()\n",
    "    model.add(GRU(50, activation='relu', input_shape=(1, 1)))\n",
    "    model.add(Dense(1))\n",
    "    model.compile(optimizer='adam', loss='mse')\n",
    "\n",
    "    # 训练模型\n",
    "    model.fit(X, y, epochs=100, verbose=0)\n",
    "\n",
    "    # 对下一步进行预测\n",
    "    x_input = np.array(data[-1]).reshape((1, 1, 1))\n",
    "    yhat = model.predict(x_input, verbose=0)\n",
    "\n",
    "    # 反归一化预测结果\n",
    "    yhat = scaler.inverse_transform(yhat)\n",
    "\n",
    "    # 将预测结果添加到预测列表\n",
    "    predictions.append(yhat[0,0])\n",
    "\n",
    "# 将预测结果添加到数据框最后一行\n",
    "df.loc[df.shape[0]] = predictions"
   ]
  },
  {
   "cell_type": "code",
   "execution_count": 20,
   "metadata": {},
   "outputs": [
    {
     "name": "stdout",
     "output_type": "stream",
     "text": [
      "[3.3788939, 2.009335, 2.808476, 1.5258039, 3.5871575, 2.2143388, 7.5822635, 2.0840404, 4.089809, 3.5796762, 4.342732, 3.4488583, 2.3007581, 2.1651442, 4.0267887, 2.302763, 8.708827, 2.5567837, 10.343449, 3.1524556, 2.7047715, 14.618685, 2.6491804, 6.9729815, 18.248417, 4.1592755, 8.362962, 11.560867, 3.9990964, 2.765815, 3.2781146, 12.626968, 9.25393, 5.50445, 4.567652, 3.3467607, 3.3508177, 12.020744, 9.514058, 9.24626, 13.234177, 2.8908374, 5.6531887, 3.3145325, 1.42458, 1.859303, 12.605825, 2.5184882, 4.632906]\n"
     ]
    }
   ],
   "source": [
    "print(predictions)\n"
   ]
  },
  {
   "cell_type": "code",
   "execution_count": 21,
   "metadata": {},
   "outputs": [],
   "source": [
    "\n",
    "# 将列表转换为DataFrame\n",
    "predictions = pd.DataFrame(predictions, columns=['Predictions'])\n",
    "\n",
    "# 将DataFrame写入Excel文件\n",
    "predictions.to_excel('output.xlsx', index=False)"
   ]
  },
  {
   "attachments": {},
   "cell_type": "markdown",
   "metadata": {},
   "source": []
  }
 ],
 "metadata": {
  "kernelspec": {
   "display_name": "pytorch",
   "language": "python",
   "name": "python3"
  },
  "language_info": {
   "codemirror_mode": {
    "name": "ipython",
    "version": 3
   },
   "file_extension": ".py",
   "mimetype": "text/x-python",
   "name": "python",
   "nbconvert_exporter": "python",
   "pygments_lexer": "ipython3",
   "version": "3.7.13"
  },
  "orig_nbformat": 4
 },
 "nbformat": 4,
 "nbformat_minor": 2
}
